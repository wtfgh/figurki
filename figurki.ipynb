{
 "cells": [
  {
   "cell_type": "code",
   "execution_count": 6,
   "metadata": {},
   "outputs": [],
   "source": [
    "import matplotlib.pyplot as plt\n",
    "import itertools as itls"
   ]
  },
  {
   "cell_type": "markdown",
   "metadata": {},
   "source": [
    "№1"
   ]
  },
  {
   "cell_type": "code",
   "execution_count": 53,
   "metadata": {},
   "outputs": [],
   "source": [
    "\n",
    "def draw_a_sequence_of_shapes(axis, sequence):\n",
    "    for i in sequence:\n",
    "        x, y = zip(*i)\n",
    "        axis.plot(x + (x[0],), y + (y[0],), color = 'black')\n",
    "    "
   ]
  },
  {
   "cell_type": "markdown",
   "metadata": {},
   "source": [
    "№2"
   ]
  },
  {
   "cell_type": "code",
   "execution_count": 46,
   "metadata": {},
   "outputs": [],
   "source": [
    "\n",
    "def gen_rectangle(space_in_between, stopping_point):\n",
    "    count = -1\n",
    "    while count != stopping_point: \n",
    "        count += 1\n",
    "        yield ((0 + count + count * space_in_between + 0.5 * count, 0), (1.5 + count + count * space_in_between + 0.5 * count, 0), \n",
    "               (1.5 + count + count * space_in_between + 0.5 * count, 1), (0 + count + count * space_in_between + 0.5 * count, 1))\n",
    "\n",
    "def gen_triangle(space_in_between, stopping_point):\n",
    "    count = -1\n",
    "    while count != stopping_point:\n",
    "        count += 1 \n",
    "        yield ((0 + count + count * space_in_between, 0), (1 + count + count * space_in_between, 0), \n",
    "               (0.5 + count + count * space_in_between, 1))\n",
    "\n",
    "def gen_hexagon(space_in_between, stopping_point):\n",
    "    count = -1\n",
    "    while count != stopping_point:\n",
    "        count += 1\n",
    "        yield ((0.5 + count + count * space_in_between, 0), (1 + count + count * space_in_between, 0.25), \n",
    "               (1 + count + count * space_in_between, 0.75), (0.5 + count + count * space_in_between, 1),\n",
    "                 (0 + count + count * space_in_between, 0.75), (0 + count + count * space_in_between, 0.25))\n",
    "\n"
   ]
  },
  {
   "cell_type": "code",
   "execution_count": 55,
   "metadata": {},
   "outputs": [
    {
     "data": {
      "image/png": "[encoded data removed]",
      "text/plain": [
       "<Figure size 1000x500 with 1 Axes>"
      ]
     },
     "metadata": {},
     "output_type": "display_data"
    }
   ],
   "source": [
    "fig, ax = plt.subplots(figsize = (10, 5))\n",
    "\n",
    "ax.spines['left'].set_position('center')\n",
    "ax.spines['bottom'].set_position('center')\n",
    "ax.spines['top'].set_visible(False)\n",
    "ax.spines['right'].set_visible(False)\n",
    "ax.set_xticks([])\n",
    "ax.set_yticks([])\n",
    "\n",
    "draw_a_sequence_of_shapes(ax, gen_triangle(0.5, 10))\n",
    "\n",
    "ax.set_aspect('equal')\n",
    "plt.show()"
   ]
  },
  {
   "cell_type": "code",
   "execution_count": null,
   "metadata": {},
   "outputs": [],
   "source": []
  }
 ],
 "metadata": {
  "kernelspec": {
   "display_name": "Python 3",
   "language": "python",
   "name": "python3"
  },
  "language_info": {
   "codemirror_mode": {
    "name": "ipython",
    "version": 3
   },
   "file_extension": ".py",
   "mimetype": "text/x-python",
   "name": "python",
   "nbconvert_exporter": "python",
   "pygments_lexer": "ipython3",
   "version": "3.13.2"
  }
 },
 "nbformat": 4,
 "nbformat_minor": 2
}
